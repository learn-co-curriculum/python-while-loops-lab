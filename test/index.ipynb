{
 "cells": [
  {
   "cell_type": "markdown",
   "metadata": {},
   "source": [
    "# While Loops Lab"
   ]
  },
  {
   "cell_type": "markdown",
   "metadata": {},
   "source": [
    "## Introduction\n",
    "In this lab, we will be practicing while loops. We will use them to perform a few different actions until the condition we set becomes false. "
   ]
  },
  {
   "cell_type": "markdown",
   "metadata": {},
   "source": [
    "## Objectives\n",
    "* Understand how wile loops work\n",
    "* See how while loops can replace simple for loops with conditional statements"
   ]
  },
  {
   "cell_type": "markdown",
   "metadata": {},
   "source": [
    "## Instructions\n",
    "Use while loops to perform the below operations and get the expected return values"
   ]
  },
  {
   "cell_type": "code",
   "execution_count": null,
   "metadata": {},
   "outputs": [],
   "source": [
    "slices_of_pie = 6\n",
    "slices_eaten = 0\n",
    "# use a while loop to eat each slice of pie\n",
    "# add eaxh slice to the slices_eaten variable\n",
    "while slices_of_pie > 0:\n",
    "    slices_of_pie -= 1\n",
    "    slices_eaten += 1"
   ]
  },
  {
   "cell_type": "code",
   "execution_count": null,
   "metadata": {},
   "outputs": [],
   "source": [
    "time_for_breakfast = 1468 # in seconds\n",
    "number_of_cooked_pancakes = 0\n",
    "# use a while loop to make yourself 5 pancakes for breakfast\n",
    "# each pancake takes 27 seconds to cook on each side\n",
    "# you must decrease the time_for_breakfast each time you \n",
    "# add a pancake to the skilled or flip a pancake (i.e. 2 times per pancake)\n",
    "# there is only room for one pancake at a time\n",
    "while number_of_cooked_pancakes < 5:\n",
    "    if time_for_breakfast > 54:\n",
    "        print(\"pour flapjack\")\n",
    "        time_for_breakfast -= 27\n",
    "        print(\"flip flapjack\")\n",
    "        time_for_breakfast -= 27\n",
    "        print(\"that's a fine pancake\")\n",
    "        number_of_cooked_pancakes += 1\n",
    "    else:\n",
    "        print(\"No time for more pancakes!! >:(\")"
   ]
  },
  {
   "cell_type": "markdown",
   "metadata": {},
   "source": [
    "> **Hint:** You may find the [remove method](https://www.programiz.com/python-programming/methods/list/remove) to be useful for the next problem"
   ]
  },
  {
   "cell_type": "code",
   "execution_count": 5,
   "metadata": {},
   "outputs": [
    {
     "name": "stdout",
     "output_type": "stream",
     "text": [
      "[0, 2, 4, 6, 8, 10, 12, 14, 16, 18, 20, 22, 24, 26, 28] [1, 3, 5, 7, 9, 11, 13, 15, 17, 19, 21, 23, 25, 27, 29] 15\n"
     ]
    }
   ],
   "source": [
    "line_of_hungry_patrons = list(range(0,30))\n",
    "fed_patrons = []\n",
    "# use a while loop to to feed the hungry patrons with an even number\n",
    "# add the patrons with an even ticket number to the fed_patrons list\n",
    "# and remove the patrons from the line_of_hungry_patrons\n",
    "\n",
    "index = 0\n",
    "while len(fed_patrons) < len(line_of_hungry_patrons):\n",
    "    patron = line_of_hungry_patrons[index]\n",
    "    if patron % 2 == 0:\n",
    "        index += 1\n",
    "        fed_patrons.append(patron)\n",
    "        line_of_hungry_patrons.remove(patron)\n",
    "\n",
    "print(fed_patrons, line_of_hungry_patrons, len(fed_patrons))"
   ]
  },
  {
   "cell_type": "markdown",
   "metadata": {},
   "source": [
    "## Summary"
   ]
  },
  {
   "cell_type": "markdown",
   "metadata": {},
   "source": [
    "In this lab, we practiced using while loops to perform different operations. While loops continue executing their block of code until the condition given is false. This is useful for instances where we do not have a collection or need a collection to solve our problem, especially when we would only like to stop the process after we have met a certain condition."
   ]
  }
 ],
 "metadata": {
  "kernelspec": {
   "display_name": "Python 3",
   "language": "python",
   "name": "python3"
  },
  "language_info": {
   "codemirror_mode": {
    "name": "ipython",
    "version": 3
   },
   "file_extension": ".py",
   "mimetype": "text/x-python",
   "name": "python",
   "nbconvert_exporter": "python",
   "pygments_lexer": "ipython3",
   "version": "3.6.5"
  }
 },
 "nbformat": 4,
 "nbformat_minor": 2
}
